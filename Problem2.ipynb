{
 "cells": [
  {
   "cell_type": "markdown",
   "id": "9ce55839",
   "metadata": {},
   "source": [
    "Question1\n"
   ]
  },
  {
   "cell_type": "code",
   "execution_count": 1,
   "id": "f005331f",
   "metadata": {},
   "outputs": [],
   "source": [
    "a = 0\n",
    "def b():\n",
    " global a\n",
    " a = c(a)\n",
    "def c(a):\n",
    " return a + 2"
   ]
  },
  {
   "cell_type": "code",
   "execution_count": 2,
   "id": "b9c8f82a",
   "metadata": {},
   "outputs": [],
   "source": [
    "b()"
   ]
  },
  {
   "cell_type": "code",
   "execution_count": 3,
   "id": "d34e2ba8",
   "metadata": {},
   "outputs": [],
   "source": [
    "b()"
   ]
  },
  {
   "cell_type": "code",
   "execution_count": 4,
   "id": "47f66dc7",
   "metadata": {},
   "outputs": [],
   "source": [
    "b()"
   ]
  },
  {
   "cell_type": "code",
   "execution_count": 5,
   "id": "3887d130",
   "metadata": {},
   "outputs": [
    {
     "data": {
      "text/plain": [
       "6"
      ]
     },
     "execution_count": 5,
     "metadata": {},
     "output_type": "execute_result"
    }
   ],
   "source": [
    "a\n"
   ]
  },
  {
   "cell_type": "markdown",
   "id": "74f09217",
   "metadata": {},
   "source": [
    "Explanation:\n",
    "In line 2 , b() gets call which eventually calls function c(a) i.e c(0) and return value to a = 0+2 i.e 2.\n",
    "Similary In line 3 when b() gets call & the value of a is updated as a=a+2 = 2+2 = 4\n",
    "In line 4 b() function gets call and return the value to a = a+2 i.e 4+2 ( as value of a is updated to 4 in previous call) =6\n",
    "So in line 5 when a is printed then it prints the value 6 ( which gets incremented by 2 with every call of b() function in previous 3 steps."
   ]
  },
  {
   "cell_type": "markdown",
   "id": "7c155b5d",
   "metadata": {},
   "source": [
    "Question: 2"
   ]
  },
  {
   "cell_type": "code",
   "execution_count": 6,
   "id": "4cdbe917",
   "metadata": {},
   "outputs": [
    {
     "name": "stdout",
     "output_type": "stream",
     "text": [
      "30312\n"
     ]
    }
   ],
   "source": [
    "import os\n",
    "def fileLength(filename):\n",
    "    try:\n",
    "        file = open(filename)\n",
    "        contents = file.read()\n",
    "        file.close()\n",
    "        print(len(contents))\n",
    "    except IOError:\n",
    "        print(\"File\",str(filename),\"not found\")\n",
    "fileLength('DataProgramming2.ipynb')"
   ]
  },
  {
   "cell_type": "code",
   "execution_count": 7,
   "id": "a2eff027",
   "metadata": {},
   "outputs": [
    {
     "name": "stdout",
     "output_type": "stream",
     "text": [
      "File idterm.py not found\n"
     ]
    }
   ],
   "source": [
    "fileLength('idterm.py')"
   ]
  },
  {
   "cell_type": "markdown",
   "id": "b71b2e68",
   "metadata": {},
   "source": [
    "Question: 3"
   ]
  },
  {
   "cell_type": "code",
   "execution_count": 8,
   "id": "c37ea9da",
   "metadata": {},
   "outputs": [],
   "source": [
    "\n",
    "class Marsupial(object):\n",
    "  def __init__(self):\n",
    "    self.lst = []\n",
    "\n",
    "  def put_in_pouch(self, item):\n",
    "    self.lst.append(item)\n",
    "\n",
    "  def pouch_contents(self):\n",
    "    return self.lst\n",
    "\n",
    "\n",
    "\n",
    "\n",
    "\n"
   ]
  },
  {
   "cell_type": "code",
   "execution_count": 9,
   "id": "487bf474",
   "metadata": {},
   "outputs": [],
   "source": [
    "\n",
    "class Kangaroo(Marsupial):\n",
    "  def __init__(self,x,y):\n",
    "    Marsupial.__init__(self)\n",
    "    self.x = x\n",
    "    self.y = y\n",
    "\n",
    "  def jump(self,dx,dy):\n",
    "    self.x += dx\n",
    "    self.y += dy\n",
    "\n",
    "  def __str__(self):\n",
    "    return 'I am a Kangaroo located at coordinates ({},{})'.format(self.x,self.y)\n",
    "\n",
    "\n",
    "\n"
   ]
  },
  {
   "cell_type": "code",
   "execution_count": 10,
   "id": "3cfb011e",
   "metadata": {},
   "outputs": [
    {
     "name": "stdout",
     "output_type": "stream",
     "text": [
      "I am a Kangaroo located at coordinates (0,0)\n"
     ]
    }
   ],
   "source": [
    "#First Task\n",
    "m = Marsupial()\n",
    "m.put_in_pouch('doll')\n",
    "m.put_in_pouch('firetruck')\n",
    "m.put_in_pouch('kitten')\n",
    "m.pouch_contents()\n",
    "k = Kangaroo(0,0)\n",
    "print(k)\n",
    "\n"
   ]
  },
  {
   "cell_type": "code",
   "execution_count": 11,
   "id": "b79aba34",
   "metadata": {},
   "outputs": [
    {
     "name": "stdout",
     "output_type": "stream",
     "text": [
      "I am a Kangaroo located at coordinates (3,0)\n"
     ]
    }
   ],
   "source": [
    "#Second Task\n",
    "k.put_in_pouch('doll')\n",
    "k.put_in_pouch('firetruck')\n",
    "k.put_in_pouch('kitten')\n",
    "k.pouch_contents()\n",
    "k.jump(1,0)\n",
    "k.jump(1,0)\n",
    "k.jump(1,0)\n",
    "print(k)"
   ]
  },
  {
   "cell_type": "markdown",
   "id": "a3435bd5",
   "metadata": {},
   "source": [
    "Question: 4"
   ]
  },
  {
   "cell_type": "code",
   "execution_count": 12,
   "id": "81d68be2",
   "metadata": {},
   "outputs": [
    {
     "name": "stdout",
     "output_type": "stream",
     "text": [
      "10\n",
      "5\n",
      "16\n",
      "8\n",
      "4\n",
      "2\n",
      "1\n"
     ]
    }
   ],
   "source": [
    "def collatz(number):\n",
    "    while number != 1:\n",
    "        if number % 2 == 0:\n",
    "            number = number // 2\n",
    "            print(number)\n",
    "\n",
    "        elif number % 2 == 1:\n",
    "            number = number * 3 + 1\n",
    "            print(number)\n",
    "\n",
    "try:\n",
    "    x = int(input())\n",
    "    collatz(x)\n",
    "#if user inputs other number than whole number then print the message to enter whole number\n",
    "except ValueError:\n",
    "    print('Please use whole numbers only.')"
   ]
  },
  {
   "cell_type": "markdown",
   "id": "e7fbee82",
   "metadata": {},
   "source": [
    "Question 5 "
   ]
  },
  {
   "cell_type": "code",
   "execution_count": 13,
   "id": "b626b382",
   "metadata": {},
   "outputs": [],
   "source": [
    "# Function to print binary number using recursion\n",
    "def binary(n):\n",
    "   if n < 0:\n",
    "        print(\"Input Error: Enter Positive number only\")\n",
    "   elif n ==0:\n",
    "        return 0\n",
    "   elif n==1:\n",
    "        return 1\n",
    "   else:\n",
    "        return ((n%2)+10*binary(n//2))\n"
   ]
  },
  {
   "cell_type": "code",
   "execution_count": 14,
   "id": "2d21fb85",
   "metadata": {},
   "outputs": [
    {
     "data": {
      "text/plain": [
       "0"
      ]
     },
     "execution_count": 14,
     "metadata": {},
     "output_type": "execute_result"
    }
   ],
   "source": [
    "binary (0)"
   ]
  },
  {
   "cell_type": "code",
   "execution_count": 15,
   "id": "d90395d5",
   "metadata": {},
   "outputs": [
    {
     "name": "stdout",
     "output_type": "stream",
     "text": [
      "Input Error: Enter Positive number only\n"
     ]
    }
   ],
   "source": [
    "binary(-1)"
   ]
  },
  {
   "cell_type": "code",
   "execution_count": 16,
   "id": "b98d462d",
   "metadata": {},
   "outputs": [
    {
     "data": {
      "text/plain": [
       "11"
      ]
     },
     "execution_count": 16,
     "metadata": {},
     "output_type": "execute_result"
    }
   ],
   "source": [
    "binary(3)"
   ]
  },
  {
   "cell_type": "code",
   "execution_count": 17,
   "id": "69ed9d6c",
   "metadata": {},
   "outputs": [
    {
     "data": {
      "text/plain": [
       "1001"
      ]
     },
     "execution_count": 17,
     "metadata": {},
     "output_type": "execute_result"
    }
   ],
   "source": [
    "binary(9)"
   ]
  },
  {
   "cell_type": "markdown",
   "id": "54e4f881",
   "metadata": {},
   "source": [
    "Question 6"
   ]
  },
  {
   "cell_type": "code",
   "execution_count": 18,
   "id": "ec37594c",
   "metadata": {},
   "outputs": [
    {
     "name": "stdout",
     "output_type": "stream",
     "text": [
      "W3C Mission\n",
      "\n",
      "\t\n",
      "\tPrinciples\n",
      "\t\n",
      " \n",
      "\n",
      "\n",
      "\n",
      "\t\n",
      "\n"
     ]
    }
   ],
   "source": [
    "import re\n",
    "from html.parser import HTMLParser\n",
    "\n",
    "class HeadingParser(HTMLParser):\n",
    "  def handle_starttag(self, tag, attrs):\n",
    "   \n",
    "    global getHeader\n",
    "    match = re.match(r'h(\\d)', tag, re.I)\n",
    "\n",
    "    if match:\n",
    "    \n",
    "       getHeader=int(match.group(1))\n",
    "        \n",
    "   # For End of the tag  \n",
    "  def handle_endtag(self, tag):\n",
    "    match = re.match(r'h(\\d)', tag, re.I)\n",
    "    if match:\n",
    "      getHeader=0\n",
    "\n",
    "\n",
    "\n",
    "  def handle_data(self, data):\n",
    "   \n",
    "    if getHeader > 0:\n",
    "      \n",
    "      tab = getHeader-1\n",
    "      out = \"\\t\"*tab\n",
    "      print(out + data)\n",
    "        \n",
    "getHeader=0\n",
    "infile = open('w3c.html')\n",
    "content = infile.read()\n",
    "infile.close()\n",
    "hp = HeadingParser()\n",
    "hp.feed(content)"
   ]
  },
  {
   "cell_type": "code",
   "execution_count": null,
   "id": "31d1ef74",
   "metadata": {},
   "outputs": [],
   "source": []
  },
  {
   "cell_type": "markdown",
   "id": "21c783d4",
   "metadata": {},
   "source": [
    "Question 7"
   ]
  },
  {
   "cell_type": "code",
   "execution_count": 19,
   "id": "463351e2",
   "metadata": {},
   "outputs": [],
   "source": [
    "#In anaconda to install : pip3 install httplib2 --upgrade\n",
    "# Beautifulsoup to pull data of html\n",
    "from bs4 import BeautifulSoup, SoupStrainer\n",
    "import httplib2\n",
    "#httplib2 to access Web resources\n",
    "\n",
    "def getLinks(url):\n",
    "    res = []\n",
    "    http = httplib2.Http()\n",
    "    status, response = http.request(url)\n",
    "\n",
    "    for link in BeautifulSoup(response, parse_only=SoupStrainer('a'), features=\"html.parser\"):\n",
    "        if link.has_attr('href'):\n",
    "            if link['href'][:5] == \"http:\" or link['href'][:5] == \"https\":\n",
    "                res.append(link['href'])\n",
    "\n",
    "    return res\n",
    "#This getLinks (url) funtion simply finds all the <a> tags in the provided page and gets their corresponding url. "
   ]
  },
  {
   "cell_type": "code",
   "execution_count": 20,
   "id": "391288f9",
   "metadata": {},
   "outputs": [
    {
     "name": "stdout",
     "output_type": "stream",
     "text": [
      "http://reed.cs.depaul.edu/lperkovic/csc242/test1.html\n"
     ]
    }
   ],
   "source": [
    "\n",
    "#Now, the webdir function: \n",
    "def webdir(url, depth, indent):\n",
    "    print(indent*\" \" + url)\n",
    "    if depth == 0:\n",
    "        return\n",
    "\n",
    "    for i in getLinks(url):\n",
    "        webdir(i, depth-1, indent+1)\n",
    "webdir(\"http://reed.cs.depaul.edu/lperkovic/csc242/test1.html\", 2, 0)\n",
    "\n"
   ]
  },
  {
   "cell_type": "markdown",
   "id": "d8f498d6",
   "metadata": {},
   "source": [
    "Question 8"
   ]
  },
  {
   "cell_type": "code",
   "execution_count": 21,
   "id": "296607d6",
   "metadata": {},
   "outputs": [
    {
     "name": "stdout",
     "output_type": "stream",
     "text": [
      "Requirement already satisfied: ipython-sql in c:\\users\\basne\\anaconda3\\lib\\site-packages (0.4.0)\n",
      "Requirement already satisfied: six in c:\\users\\basne\\anaconda3\\lib\\site-packages (from ipython-sql) (1.16.0)\n",
      "Requirement already satisfied: sqlparse in c:\\users\\basne\\anaconda3\\lib\\site-packages (from ipython-sql) (0.4.2)\n",
      "Requirement already satisfied: ipython>=1.0 in c:\\users\\basne\\anaconda3\\lib\\site-packages (from ipython-sql) (7.29.0)\n",
      "Requirement already satisfied: prettytable<1 in c:\\users\\basne\\anaconda3\\lib\\site-packages (from ipython-sql) (0.7.2)\n",
      "Requirement already satisfied: ipython-genutils>=0.1.0 in c:\\users\\basne\\anaconda3\\lib\\site-packages (from ipython-sql) (0.2.0)\n",
      "Requirement already satisfied: sqlalchemy>=0.6.7 in c:\\users\\basne\\anaconda3\\lib\\site-packages (from ipython-sql) (1.4.22)\n",
      "Requirement already satisfied: traitlets>=4.2 in c:\\users\\basne\\anaconda3\\lib\\site-packages (from ipython>=1.0->ipython-sql) (5.1.0)\n",
      "Requirement already satisfied: backcall in c:\\users\\basne\\anaconda3\\lib\\site-packages (from ipython>=1.0->ipython-sql) (0.2.0)\n",
      "Requirement already satisfied: pickleshare in c:\\users\\basne\\anaconda3\\lib\\site-packages (from ipython>=1.0->ipython-sql) (0.7.5)\n",
      "Requirement already satisfied: colorama in c:\\users\\basne\\anaconda3\\lib\\site-packages (from ipython>=1.0->ipython-sql) (0.4.4)\n",
      "Requirement already satisfied: pygments in c:\\users\\basne\\anaconda3\\lib\\site-packages (from ipython>=1.0->ipython-sql) (2.10.0)\n",
      "Requirement already satisfied: prompt-toolkit!=3.0.0,!=3.0.1,<3.1.0,>=2.0.0 in c:\\users\\basne\\anaconda3\\lib\\site-packages (from ipython>=1.0->ipython-sql) (3.0.20)\n",
      "Requirement already satisfied: matplotlib-inline in c:\\users\\basne\\anaconda3\\lib\\site-packages (from ipython>=1.0->ipython-sql) (0.1.2)\n",
      "Requirement already satisfied: decorator in c:\\users\\basne\\anaconda3\\lib\\site-packages (from ipython>=1.0->ipython-sql) (5.1.0)\n",
      "Requirement already satisfied: jedi>=0.16 in c:\\users\\basne\\anaconda3\\lib\\site-packages (from ipython>=1.0->ipython-sql) (0.18.0)\n",
      "Requirement already satisfied: setuptools>=18.5 in c:\\users\\basne\\anaconda3\\lib\\site-packages (from ipython>=1.0->ipython-sql) (58.0.4)\n",
      "Requirement already satisfied: parso<0.9.0,>=0.8.0 in c:\\users\\basne\\anaconda3\\lib\\site-packages (from jedi>=0.16->ipython>=1.0->ipython-sql) (0.8.2)\n",
      "Requirement already satisfied: wcwidth in c:\\users\\basne\\anaconda3\\lib\\site-packages (from prompt-toolkit!=3.0.0,!=3.0.1,<3.1.0,>=2.0.0->ipython>=1.0->ipython-sql) (0.2.5)\n",
      "Requirement already satisfied: greenlet!=0.4.17 in c:\\users\\basne\\anaconda3\\lib\\site-packages (from sqlalchemy>=0.6.7->ipython-sql) (1.1.1)\n"
     ]
    }
   ],
   "source": [
    " !pip install ipython-sql"
   ]
  },
  {
   "cell_type": "code",
   "execution_count": 22,
   "id": "63b7829f",
   "metadata": {},
   "outputs": [],
   "source": [
    "import sqlite3"
   ]
  },
  {
   "cell_type": "code",
   "execution_count": 23,
   "id": "fa0728a7",
   "metadata": {},
   "outputs": [],
   "source": [
    "con = sqlite3.connect('data.db')"
   ]
  },
  {
   "cell_type": "code",
   "execution_count": 24,
   "id": "87a2b581",
   "metadata": {},
   "outputs": [
    {
     "data": {
      "text/plain": [
       "<sqlite3.Cursor at 0x2626dec8ab0>"
      ]
     },
     "execution_count": 24,
     "metadata": {},
     "output_type": "execute_result"
    }
   ],
   "source": [
    "cur=con.cursor()\n",
    "cur.execute(\"DROP TABLE climate;\")"
   ]
  },
  {
   "cell_type": "code",
   "execution_count": 25,
   "id": "71199cc4",
   "metadata": {},
   "outputs": [
    {
     "data": {
      "text/plain": [
       "<sqlite3.Cursor at 0x2626dec8b20>"
      ]
     },
     "execution_count": 25,
     "metadata": {},
     "output_type": "execute_result"
    }
   ],
   "source": [
    "cur=con.cursor()\n",
    "cur.execute(\"CREATE TABLE climate (City text,Country text,Season text,Temperature DOUBLE,Rainfallmm DOUBLE)\")"
   ]
  },
  {
   "cell_type": "code",
   "execution_count": 26,
   "id": "bb2cdcb9",
   "metadata": {},
   "outputs": [
    {
     "data": {
      "text/plain": [
       "<sqlite3.Cursor at 0x2626dec8b20>"
      ]
     },
     "execution_count": 26,
     "metadata": {},
     "output_type": "execute_result"
    }
   ],
   "source": [
    "cur.execute(\"INSERT INTO climate(City, Country, Season, Temperature, Rainfallmm)VALUES('Mumbai', 'India', 'Winter', 24.8, 5.9),('Mumbai', 'India', 'Spring', 28.4, 16.2),('Mumbai', 'India', 'Summer', 27.9, 1549.4),('Mumbai', 'India', 'Fall', 27.6, 346.0),('London', 'United Kingdom', 'Winter', 4.2, 207.7),('London', 'United Kingdom', 'Spring', 8.3, 169.6),('London', 'United Kingdom', 'Summer', 15.7, 157.0),('London', 'United Kingdom', 'Fall', 10.4, 218.5),('Cairo', 'Egypt', 'Winter', 13.6, 16.5),('Cairo', 'Egypt', 'Spring', 20.7, 6.5),('Cairo', 'Egypt', 'Summer', 27.7, 0.1),('Cairo', 'Egypt', 'Fall', 22.2, 4.5)\")"
   ]
  },
  {
   "cell_type": "code",
   "execution_count": 27,
   "id": "6fe1c034",
   "metadata": {},
   "outputs": [
    {
     "name": "stdout",
     "output_type": "stream",
     "text": [
      "8a: Temperature data only: \n",
      "[(24.8,), (28.4,), (27.9,), (27.6,), (4.2,), (8.3,), (15.7,), (10.4,), (13.6,), (20.7,), (27.7,), (22.2,)]\n"
     ]
    }
   ],
   "source": [
    "print(\"8a: Temperature data only: \")\n",
    "cur.execute(\"select TEMPERATURE from climate\")\n",
    "print(cur.fetchall())"
   ]
  },
  {
   "cell_type": "code",
   "execution_count": 28,
   "id": "0616c512",
   "metadata": {},
   "outputs": [
    {
     "name": "stdout",
     "output_type": "stream",
     "text": [
      "8b: Cities without repetation: \n",
      "[('Mumbai',), ('London',), ('Cairo',)]\n"
     ]
    }
   ],
   "source": [
    "print(\"8b: Cities without repetation: \")\n",
    "cur.execute(\"select distinct city from climate\")\n",
    "print(cur.fetchall())"
   ]
  },
  {
   "cell_type": "code",
   "execution_count": 29,
   "id": "d36cffa1",
   "metadata": {},
   "outputs": [
    {
     "name": "stdout",
     "output_type": "stream",
     "text": [
      "8C: All the records for India:  \n",
      "[('Mumbai', 'India', 'Winter', 24.8, 5.9), ('Mumbai', 'India', 'Spring', 28.4, 16.2), ('Mumbai', 'India', 'Summer', 27.9, 1549.4), ('Mumbai', 'India', 'Fall', 27.6, 346.0)]\n"
     ]
    }
   ],
   "source": [
    "print(\"8C: All the records for India:  \")\n",
    "query = \"SELECT * FROM climate WHERE Country = 'India'\"\n",
    "cur.execute(query)\n",
    "print(cur.fetchall())"
   ]
  },
  {
   "cell_type": "code",
   "execution_count": 30,
   "id": "9e20227e",
   "metadata": {},
   "outputs": [
    {
     "name": "stdout",
     "output_type": "stream",
     "text": [
      "8d: All the records for India:  \n",
      "[('Mumbai', 'India', 'Fall', 27.6, 346.0), ('London', 'United Kingdom', 'Fall', 10.4, 218.5), ('Cairo', 'Egypt', 'Fall', 22.2, 4.5)]\n"
     ]
    }
   ],
   "source": [
    "print(\"8d: All the records for India:  \")\n",
    "query = \"SELECT * FROM climate WHERE Season = 'Fall'\"\n",
    "cur.execute(query)\n",
    "print(cur.fetchall())"
   ]
  },
  {
   "cell_type": "code",
   "execution_count": 31,
   "id": "c3d33a97",
   "metadata": {},
   "outputs": [
    {
     "name": "stdout",
     "output_type": "stream",
     "text": [
      "8e:  The city, country,season, average rainfall for which the average rainfall is between 200 and 400 millimeters. \n",
      "[('Mumbai', 'India', 'Fall', 257.40000000000003)]\n"
     ]
    }
   ],
   "source": [
    "print(\"8e:  The city, country,season, average rainfall for which the average rainfall is between 200 and 400 millimeters. \")\n",
    "query = \"select City,Country,Season,AVG(Rainfallmm) from climate where Rainfallmm  between '200' and '400';\"\n",
    "cur.execute(query)\n",
    "print(cur.fetchall())"
   ]
  },
  {
   "cell_type": "code",
   "execution_count": 32,
   "id": "e93262ec",
   "metadata": {},
   "outputs": [
    {
     "name": "stdout",
     "output_type": "stream",
     "text": [
      "8f: The city and country for which the average Fall temperature is above 20 degrees, in increasing temperature order.\n",
      "[('Mumbai', 'India', 24.9)]\n"
     ]
    }
   ],
   "source": [
    "print(\"8f: The city and country for which the average Fall temperature is above 20 degrees, in increasing temperature order.\")\n",
    "query = \"select City,Country,avg(Temperature) from Climate where Season = 'Fall' and Temperature >20 order by Temperature;\"\n",
    "cur.execute(query)\n",
    "print(cur.fetchall())"
   ]
  },
  {
   "cell_type": "code",
   "execution_count": 33,
   "id": "97bf886e",
   "metadata": {},
   "outputs": [
    {
     "name": "stdout",
     "output_type": "stream",
     "text": [
      "8g: The total annual rainfall for Cairo \n",
      "[(27.6,)]\n"
     ]
    }
   ],
   "source": [
    "print(\"8g: The total annual rainfall for Cairo \")\n",
    "query = \"select sum(Rainfallmm) from Climate where City='Cairo';\"\n",
    "cur.execute(query)\n",
    "print(cur.fetchall())"
   ]
  },
  {
   "cell_type": "code",
   "execution_count": 34,
   "id": "bedada7b",
   "metadata": {},
   "outputs": [
    {
     "name": "stdout",
     "output_type": "stream",
     "text": [
      "8h: The total rainfall for each season \n",
      "Winter,     Spring,              Summer,     Fall\n",
      "[(569.0,), (192.29999999999998,), (1706.5,), (230.1,)]\n"
     ]
    }
   ],
   "source": [
    "print(\"8h: The total rainfall for each season \")\n",
    "print(\"Winter,     Spring,              Summer,     Fall\")\n",
    "cur.execute(\"select sum(Rainfallmm) from Climate group by Season\")\n",
    "print(cur.fetchall())"
   ]
  },
  {
   "cell_type": "markdown",
   "id": "8c289d43",
   "metadata": {},
   "source": [
    "Question:9"
   ]
  },
  {
   "cell_type": "code",
   "execution_count": 35,
   "id": "8c973577",
   "metadata": {},
   "outputs": [
    {
     "name": "stdout",
     "output_type": "stream",
     "text": [
      "9a:\t\n",
      "['THE', 'QUICK', 'BROWN', 'FOX', 'JUMPS', 'OVER', 'THE', 'LAZY', 'DOG']\n",
      "9b:\t\n",
      "['the', 'quick', 'brown', 'fox', 'jumps', 'over', 'the', 'lazy', 'dog']\n",
      "9c:\t\n",
      "[3, 5, 5, 3, 5, 4, 3, 4, 3]\n",
      "9d:\t\n",
      "[['THE', 'the', 3], ['QUICK', 'quick', 5], ['BROWN', 'brown', 5], ['FOX', 'fox', 3], ['JUMPS', 'jumps', 5], ['OVER', 'over', 4], ['THE', 'the', 3], ['LAZY', 'lazy', 4], ['DOG', 'dog', 3]]\n",
      "9e:\t\n",
      "['quick', 'brown', 'jumps', 'over', 'lazy']\n"
     ]
    }
   ],
   "source": [
    "words = ['The', 'quick', 'brown', 'fox', 'jumps', 'over', 'the', 'lazy', 'dog']\n",
    "\n",
    "# Printing all words upper case\n",
    "print(\"9a:\\t\")\n",
    "print([x.upper() for x in words])\n",
    "\n",
    "# Printing all words lower case\n",
    "print(\"9b:\\t\")\n",
    "print([x.lower() for x in words])\n",
    "\n",
    "# Printing length of each word\n",
    "print(\"9c:\\t\")\n",
    "print([len(x) for x in words])\n",
    "\n",
    "# Printing the list containing a list for every word of list words,\n",
    "# where each list contains the word in uppercase and lowercase and the length of the word\n",
    "print(\"9d:\\t\")\n",
    "print([[x.upper(), x.lower(), len(x)] for x in words])\n",
    "\n",
    "# Printing the list of words in list words containing 4 or more characters\n",
    "print(\"9e:\\t\")\n",
    "print([x for x in words if len(x)>=4])"
   ]
  },
  {
   "cell_type": "code",
   "execution_count": null,
   "id": "1a7a962b",
   "metadata": {},
   "outputs": [],
   "source": []
  }
 ],
 "metadata": {
  "kernelspec": {
   "display_name": "Python 3 (ipykernel)",
   "language": "python",
   "name": "python3"
  },
  "language_info": {
   "codemirror_mode": {
    "name": "ipython",
    "version": 3
   },
   "file_extension": ".py",
   "mimetype": "text/x-python",
   "name": "python",
   "nbconvert_exporter": "python",
   "pygments_lexer": "ipython3",
   "version": "3.9.7"
  }
 },
 "nbformat": 4,
 "nbformat_minor": 5
}
